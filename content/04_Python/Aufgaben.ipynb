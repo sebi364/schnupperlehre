{
 "cells": [
  {
   "cell_type": "markdown",
   "metadata": {},
   "source": [
    "## 1. `Hello World!`\n",
    "Schreib ein Programm, das den Text `Hello World!` in der Commando Zeile ausgibt.\n",
    "> [!TIP]\n",
    "> - Um etwas auszugeben kann man die Funktion `print(x)` verwenden\n",
    "> - Um ein Stück Text in Python darzustellen, muss man ihn zwischen zwei Gänsefüsschen setzen `\"text\"`\n",
    "\n",
    "### `Code:`"
   ]
  },
  {
   "cell_type": "code",
   "execution_count": null,
   "metadata": {
    "vscode": {
     "languageId": "plaintext"
    }
   },
   "outputs": [],
   "source": []
  },
  {
   "cell_type": "markdown",
   "metadata": {},
   "source": [
    "---\n",
    "## 2. `Hallo John`\n",
    "Schreibe ein Programm, das den Benutzer nach seinem Namen fragt und ihm danach mit `Hallo <name>` antwortet.\n",
    "\n",
    "Beispiel Interaktion:\n",
    "```\n",
    "Wie heist du?   <-  Programm\n",
    "John            <-  User\n",
    "Hallo John      <-  Programm,\n",
    "```\n",
    "> [!TIP]\n",
    "> - Um einen Benutzer in der Commando Zeile nach einem Input zu fragen muss die `input()` Funktion verwendet werden.\n",
    "> - https://www.pythoncheatsheet.org/cheatsheet/basics#the-input-function\n",
    "\n",
    "### `Code:`\n"
   ]
  },
  {
   "cell_type": "code",
   "execution_count": null,
   "metadata": {
    "vscode": {
     "languageId": "plaintext"
    }
   },
   "outputs": [],
   "source": []
  },
  {
   "cell_type": "markdown",
   "metadata": {},
   "source": [
    "---"
   ]
  }
 ],
 "metadata": {
  "language_info": {
   "name": "python"
  }
 },
 "nbformat": 4,
 "nbformat_minor": 2
}
