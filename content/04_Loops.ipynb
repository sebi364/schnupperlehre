{
    "cells": [
        {
            "cell_type": "markdown",
            "metadata": {},
            "source": [
                "## 4. `limitierte Versüche`\n",
                "**Wir wollen einem Benutzer drei Versuche geben, um den PIN korrekt einzugeben. Deshalb solltest du jetzt dein Programm so modifizieren, das es drei mal nach dem PIN fragt.**\n",
                "> [!WARNING]\n",
                "> **Verwende einen loop um diese Aufgabe zu lösen.** Es ist zwar möglich mehrere `if` Statements ineinander zu verschachteln, allerdings ist das nicht der Sinn dieser Aufgabe.\n",
                "\n",
                "\n",
                "> [!TIP]\n",
                "> - https://www.pythoncheatsheet.org/cheatsheet/control-flow#break-statements"
            ]
        },
        {
            "cell_type": "code",
            "execution_count": null,
            "metadata": {
                "vscode": {
                    "languageId": "plaintext"
                }
            },
            "outputs": [],
            "source": []
        }
    ],
    "metadata": {
        "kernelspec": {
            "display_name": "Python (Pyodide)",
            "language": "python",
            "name": "python"
        },
        "language_info": {
            "codemirror_mode": {
                "name": "python",
                "version": 3
            },
            "file_extension": ".py",
            "mimetype": "text/x-python",
            "name": "python",
            "nbconvert_exporter": "python",
            "pygments_lexer": "ipython3",
            "version": "3.8"
        }
    },
    "nbformat": 4,
    "nbformat_minor": 4
}