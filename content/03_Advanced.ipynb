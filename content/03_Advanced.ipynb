{
  "cells": [
    {
      "cell_type": "markdown",
      "metadata": {
        "editable": false,
        "slideshow": {
          "slide_type": ""
        },
        "tags": []
      },
      "source": [
        "## `Hashcrack`\n",
        "In dieser Aufgabe hast du einen [sha256 hash](https://www.dashlane.com/de/blog/was-versteht-man-unter-passwort-hashing) von einem Password bekommen, der irgendwann mal gestohlen wurde. Leider ist der Hash an sich nutzlos, daher ist es jetzt dein Job, ihm irgendwie zu brechen. sha256 an sich gilt als sicher, allerdings kann es gut sein, dass der Benutzer nicht vorsichtig wahr und eines von den [top 10'000 Passwörtern](https://gist.github.com/sebi364/0309bcd6b9b36654edd3a1a9649ebfee) benutzt hat. Schreib ein Programm, das jedes der top 10'000 Passwörter hashed und versuch herauszufinden, was das ursprüngliche Passwort des Benutzers wahr. \n",
        "\n",
        "**Hash:**\n",
        "```\n",
        "7a5179eecc0fe18760ba615f92603372ae3fe302860098a019e15927551fee3b\n",
        "```\n",
        "\n",
        "**Hints:**\n",
        "* ```python\n",
        "  import hashlib\n",
        "  \n",
        "  value = \"Hello World!\"\n",
        "  hashed_value = hashlib.sha256(value.encode('UTF-8')).hexdigest()\n",
        "  print(hashed_value)\n",
        "  ```\n",
        "* https://stackoverflow.com/questions/3277503/how-to-read-a-file-line-by-line-into-a-list"
      ]
    },
    {
      "cell_type": "code",
      "execution_count": null,
      "metadata": {
        "editable": true,
        "slideshow": {
          "slide_type": ""
        },
        "tags": [],
        "vscode": {
          "languageId": "plaintext"
        }
      },
      "outputs": [],
      "source": []
    }
  ],
  "metadata": {
    "kernelspec": {
      "display_name": "Python (Pyodide)",
      "language": "python",
      "name": "python"
    },
    "language_info": {
      "codemirror_mode": {
        "name": "python",
        "version": 3
      },
      "file_extension": ".py",
      "mimetype": "text/x-python",
      "name": "python",
      "nbconvert_exporter": "python",
      "pygments_lexer": "ipython3",
      "version": "3.8"
    }
  },
  "nbformat": 4,
  "nbformat_minor": 4
}
