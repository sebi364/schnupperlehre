{
  "cells": [
    {
      "cell_type": "markdown",
      "metadata": {
        "editable": false,
        "slideshow": {
          "slide_type": ""
        },
        "tags": []
      },
      "source": [
        "## `01:Hello World!`\n",
        "Schreib ein Programm, das den Text `Hello World!` in der Commando Zeile ausgibt.\n",
        "### Tips:\n",
        "* Um etwas auszugeben kann man die Funktion `print(x)` verwenden\n",
        "* Um ein Stück Text in Python darzustellen, muss man ihn zwischen zwei Gänsefüsschen setzen `\"text\"`\n",
        "* https://www.pythoncheatsheet.org/builtin/print"
      ]
    },
    {
      "cell_type": "code",
      "execution_count": null,
      "metadata": {
        "editable": true,
        "slideshow": {
          "slide_type": ""
        },
        "tags": [],
        "trusted": true,
        "vscode": {
          "languageId": "plaintext"
        }
      },
      "outputs": [],
      "source": [
        "# Drucke den text \"Hello World!\" aus:\n"
      ]
    },
    {
      "cell_type": "markdown",
      "metadata": {
        "editable": false,
        "slideshow": {
          "slide_type": ""
        },
        "tags": []
      },
      "source": [
        "## `02:Echo`\n",
        "Im unterem code sind bereits die Variabeln `name` und `alter` vorhanden, drucke diese aus."
      ]
    },
    {
      "cell_type": "code",
      "execution_count": null,
      "metadata": {
        "editable": true,
        "slideshow": {
          "slide_type": ""
        },
        "tags": [],
        "trusted": true,
        "vscode": {
          "languageId": "plaintext"
        }
      },
      "outputs": [],
      "source": [
        "# vordefinierte Variabeln:\n",
        "name = \"John\"\n",
        "alter = 17\n",
        "\n",
        "# Code der die Variable \"benutzer_input\" ausdruckt:\n"
      ]
    },
    {
      "cell_type": "markdown",
      "metadata": {
        "editable": false,
        "slideshow": {
          "slide_type": ""
        },
        "tags": []
      },
      "source": [
        "## `03:PIN-Check`\n",
        "Schreib ein Programm das die variabel `alter` auswertet und entweder:\n",
        "* \"`Die Person ist Miderjährig`\" drukt, wen das alter weniger als 18 ist. (`alter < 18`)\n",
        "* \"`Der Person ist 18 Jahre alt`\" drukt, wen das alter genau 18 Jahre ist. (`alter == 18`)\n",
        "* \"`Die Person ist über 18`\" drukt, wen das alter grösser als 18 ist (`alter > 18`)\n",
        "\n",
        "### Tips:\n",
        "* https://www.pythoncheatsheet.org/cheatsheet/control-flow"
      ]
    },
    {
      "cell_type": "code",
      "execution_count": null,
      "metadata": {
        "editable": true,
        "slideshow": {
          "slide_type": ""
        },
        "tags": [],
        "trusted": true,
        "vscode": {
          "languageId": "plaintext"
        }
      },
      "outputs": [],
      "source": [
        "# vordefinierte variabeln:\n",
        "alter = 16\n",
        "\n",
        "# Code der das Alter auswertet:\n"
      ]
    },
    {
      "cell_type": "markdown",
      "metadata": {
        "editable": false,
        "slideshow": {
          "slide_type": ""
        },
        "tags": []
      },
      "source": [
        "## `04:Summe`\n",
        "Schreibe ein Programm das versucht die korekte zahl zu erraten. Verwende eine **while** Schleife um so lange eine zufällige zahl zu generieren, biss die \"`korekte_zahl`\" erraten wird.\n",
        "### Tips:\n",
        "* https://www.pythoncheatsheet.org/cheatsheet/control-flow#while-loop-statements"
      ]
    },
    {
      "cell_type": "code",
      "execution_count": null,
      "metadata": {
        "editable": true,
        "slideshow": {
          "slide_type": ""
        },
        "tags": [],
        "trusted": true,
        "vscode": {
          "languageId": "plaintext"
        }
      },
      "outputs": [],
      "source": [
        "# random library importieren\n",
        "import random\n",
        "\n",
        "# Zahl die erraten werden muss\n",
        "korekte_zahl = 78\n",
        "\n",
        "# Beispiel wie man eine zufällige Zahl bekommen kan:\n",
        "zufälige_zahl = random.randint(0, 1000)\n",
        "print(zufälige_zahl)\n",
        "\n",
        "# Code welcher so lange zufällige zahlen probier, bis er die korekte zahl findet:\n"
      ]
    },
    {
      "cell_type": "markdown",
      "metadata": {
        "editable": false,
        "slideshow": {
          "slide_type": ""
        },
        "tags": []
      },
      "source": [
        "## `05:Namelist`\n",
        "Schreibe ein Programm, das eine **for** Schleife verwendet, um jedes Element einer Liste von Namen auszugeben.\n",
        "### Tips:\n",
        "* https://www.pythoncheatsheet.org/cheatsheet/control-flow#for-loop"
      ]
    },
    {
      "cell_type": "code",
      "execution_count": null,
      "metadata": {
        "editable": true,
        "slideshow": {
          "slide_type": ""
        },
        "tags": [],
        "trusted": true,
        "vscode": {
          "languageId": "plaintext"
        }
      },
      "outputs": [],
      "source": [
        "# vordefinierte variabeln:\n",
        "namen = [\"Anna\", \"Ben\", \"Clara\", \"David\", \"Eva\"]\n",
        "\n",
        "# Code welcher alle namen nachainander ausdrukt:\n"
      ]
    },
    {
      "cell_type": "markdown",
      "metadata": {
        "editable": false,
        "slideshow": {
          "slide_type": ""
        },
        "tags": []
      },
      "source": [
        "## `06:Funktion`\n",
        "Schreibe eine eigene Funktion, (die ähnlich wie Aufgabe 3) das Alter eines Benutzers auswertet. Die Funktion nimmt eine Zahl als Input und gibt einen String zurück.\n",
        "### Tips:\n",
        "* https://www.pythoncheatsheet.org/cheatsheet/functions\n",
        "* https://www.pythoncheatsheet.org/cheatsheet/functions#return-values"
      ]
    },
    {
      "cell_type": "code",
      "execution_count": null,
      "metadata": {
        "editable": true,
        "slideshow": {
          "slide_type": ""
        },
        "tags": [],
        "trusted": true,
        "vscode": {
          "languageId": "plaintext"
        }
      },
      "outputs": [],
      "source": [
        "# Funktion:\n",
        "\n",
        "\n",
        "# Code der die Funktion ausführt:\n",
        "print(ist_volljährig(27))"
      ]
    }
  ],
  "metadata": {
    "kernelspec": {
      "display_name": "Python (Pyodide)",
      "language": "python",
      "name": "python"
    },
    "language_info": {
      "codemirror_mode": {
        "name": "python",
        "version": 3
      },
      "file_extension": ".py",
      "mimetype": "text/x-python",
      "name": "python",
      "nbconvert_exporter": "python",
      "pygments_lexer": "ipython3",
      "version": "3.8"
    }
  },
  "nbformat": 4,
  "nbformat_minor": 4
}
