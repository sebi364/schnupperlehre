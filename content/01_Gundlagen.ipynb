{
  "metadata": {
    "kernelspec": {
      "display_name": "Python (Pyodide)",
      "language": "python",
      "name": "python"
    },
    "language_info": {
      "codemirror_mode": {
        "name": "python",
        "version": 3
      },
      "file_extension": ".py",
      "mimetype": "text/x-python",
      "name": "python",
      "nbconvert_exporter": "python",
      "pygments_lexer": "ipython3",
      "version": "3.8"
    }
  },
  "nbformat_minor": 4,
  "nbformat": 4,
  "cells": [
    {
      "cell_type": "markdown",
      "source": "## `1:Hello World!`\nSchreib ein Programm, das den Text `Hello World!` in der Commando Zeile ausgibt.\n### Tips:\n* Um etwas auszugeben kann man die Funktion `print(x)` verwenden\n* Um ein Stück Text in Python darzustellen, muss man ihn zwischen zwei Gänsefüsschen setzen `\"text\"`",
      "metadata": {
        "editable": false,
        "tags": [],
        "slideshow": {
          "slide_type": ""
        }
      }
    },
    {
      "cell_type": "code",
      "source": "# Drucke den text \"Hello World!\" aus:\n",
      "metadata": {
        "vscode": {
          "languageId": "plaintext"
        },
        "trusted": true,
        "tags": [],
        "editable": true,
        "slideshow": {
          "slide_type": ""
        }
      },
      "outputs": [],
      "execution_count": 65
    },
    {
      "cell_type": "markdown",
      "source": "## `2:Echo`\nIm unterem code ist bereits eine Variabel namens `benutzer_input` vorhanden, drucke diese aus.",
      "metadata": {
        "editable": false,
        "tags": [],
        "slideshow": {
          "slide_type": ""
        }
      }
    },
    {
      "cell_type": "code",
      "source": "# vordefinierte variabeln:\nbenutzer_input = 1234\n\n# Code der die Variable \"benutzer_input\" ausdruckt:\n",
      "metadata": {
        "vscode": {
          "languageId": "plaintext"
        },
        "trusted": true,
        "tags": [],
        "editable": true,
        "slideshow": {
          "slide_type": ""
        }
      },
      "outputs": [],
      "execution_count": 1
    },
    {
      "cell_type": "markdown",
      "source": "## `3:Bedingungen`\nSchreib ein Programm überprüft ob die variabel `benutzer_input` **kleiner als null**, **grösser als null** oder **gleich null** ist und eine passende Nachricht zurückgiebt .\n### Tips:\n* https://www.pythoncheatsheet.org/cheatsheet/control-flow#if-statements\n* https://www.pythoncheatsheet.org/cheatsheet/control-flow#comparison-operators",
      "metadata": {
        "editable": false,
        "tags": [],
        "slideshow": {
          "slide_type": ""
        }
      }
    },
    {
      "cell_type": "code",
      "source": "# vordefinierte variabeln:\nbenutzer_input = 15\n\n# Code der die Variabel auswertet:\n",
      "metadata": {
        "vscode": {
          "languageId": "plaintext"
        },
        "tags": [],
        "editable": true,
        "slideshow": {
          "slide_type": ""
        }
      },
      "outputs": [],
      "execution_count": null
    },
    {
      "cell_type": "markdown",
      "source": "## `4:Summe`\nSchreibe ein Programm, das eine **while** Schleife verwendet, um die Zahlen von 1 bis `x` zusammen zu rechnen und dann das Ergebnis ausgiebt.\n### Tips:\n* https://www.pythoncheatsheet.org/cheatsheet/control-flow#while-loop-statements",
      "metadata": {
        "editable": false,
        "tags": [],
        "slideshow": {
          "slide_type": ""
        }
      }
    },
    {
      "cell_type": "code",
      "source": "# vordefinierte variabeln:\ntotal = 0\nx = 100\n\n# Code welcher alle zahlen von 0 bis x zusammenrechnet:\n\n\n# Total ausdrucken:\nprint(\"Total: \", total)",
      "metadata": {
        "vscode": {
          "languageId": "plaintext"
        },
        "tags": [],
        "editable": true,
        "slideshow": {
          "slide_type": ""
        }
      },
      "outputs": [],
      "execution_count": null
    },
    {
      "cell_type": "markdown",
      "source": "## `5:Namelist`\nSchreibe ein Programm, das eine **for** Schleife verwendet, um jedes Element einer Liste von Namen auszugeben.\n### Tips:\n* https://www.pythoncheatsheet.org/cheatsheet/control-flow#for-loop",
      "metadata": {
        "editable": false,
        "tags": [],
        "slideshow": {
          "slide_type": ""
        }
      }
    },
    {
      "cell_type": "code",
      "source": "# vordefinierte variabeln:\nnamen = [\"Anna\", \"Ben\", \"Clara\", \"David\", \"Eva\"]\n\n# Code welcher alle namen nachainander ausdrukt:\n",
      "metadata": {
        "vscode": {
          "languageId": "plaintext"
        },
        "tags": [],
        "editable": true,
        "slideshow": {
          "slide_type": ""
        }
      },
      "outputs": [],
      "execution_count": null
    },
    {
      "cell_type": "markdown",
      "source": "## `6:Funktion`\nVerwandle dein Program aus der 3. Aufgabe in eine Funktion welche je nach Input `\"kleiner\"`, `\"grösser\"` oder `\"gleich\"` zurückgiebt.\n### Tips:\n* https://www.pythoncheatsheet.org/cheatsheet/functions\n* https://www.pythoncheatsheet.org/cheatsheet/functions#return-values",
      "metadata": {
        "editable": false,
        "tags": [],
        "slideshow": {
          "slide_type": ""
        }
      }
    },
    {
      "cell_type": "code",
      "source": "# vordefinierte variabeln:\nbenutzer_input = 15\n\n# Funktion:\n\n\n# Code der die Funktion ausführt:\nresultat = meine_funktion(benutzer_input)\nprint(\"Der Input ist: \", resultat)",
      "metadata": {
        "vscode": {
          "languageId": "plaintext"
        },
        "tags": [],
        "editable": true,
        "slideshow": {
          "slide_type": ""
        }
      },
      "outputs": [],
      "execution_count": null
    }
  ]
}