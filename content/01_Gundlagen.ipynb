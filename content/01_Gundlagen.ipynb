{
  "metadata": {
    "kernelspec": {
      "display_name": "Python (Pyodide)",
      "language": "python",
      "name": "python"
    },
    "language_info": {
      "codemirror_mode": {
        "name": "python",
        "version": 3
      },
      "file_extension": ".py",
      "mimetype": "text/x-python",
      "name": "python",
      "nbconvert_exporter": "python",
      "pygments_lexer": "ipython3",
      "version": "3.8"
    }
  },
  "nbformat_minor": 4,
  "nbformat": 4,
  "cells": [
    {
      "cell_type": "markdown",
      "source": "## `1:Hello World!`\nSchreib ein Programm, das den Text `Hello World!` in der Commando Zeile ausgibt.\n### Tips:\n* Um etwas auszugeben kann man die Funktion `print(x)` verwenden\n* Um ein Stück Text in Python darzustellen, muss man ihn zwischen zwei Gänsefüsschen setzen `\"text\"`\n* https://www.pythoncheatsheet.org/builtin/print",
      "metadata": {
        "editable": false,
        "tags": [],
        "slideshow": {
          "slide_type": ""
        }
      }
    },
    {
      "cell_type": "code",
      "source": "# Drucke den text \"Hello World!\" aus:\n",
      "metadata": {
        "vscode": {
          "languageId": "plaintext"
        },
        "trusted": true,
        "tags": [],
        "editable": true,
        "slideshow": {
          "slide_type": ""
        }
      },
      "outputs": [],
      "execution_count": null
    },
    {
      "cell_type": "markdown",
      "source": "## `2:Echo`\nIm unterem code sind bereits die Variabeln `name` und `alter` vorhanden, drucke diese aus.",
      "metadata": {
        "editable": false,
        "tags": [],
        "slideshow": {
          "slide_type": ""
        }
      }
    },
    {
      "cell_type": "code",
      "source": "# vordefinierte variabeln:\nname = \"John\"\nalter = 17\n\n# Code der die Variable \"benutzer_input\" ausdruckt:\n",
      "metadata": {
        "vscode": {
          "languageId": "plaintext"
        },
        "trusted": true,
        "tags": [],
        "editable": true,
        "slideshow": {
          "slide_type": ""
        }
      },
      "outputs": [],
      "execution_count": null
    },
    {
      "cell_type": "markdown",
      "source": "## `3:PIN-Check`\nSchreib ein Programm das die variabel `alter` auswertet und entweder:\n* \"`Die Person ist Miderjährig`\" drukt, wen das alter weniger als 18 ist. (`alter < 18`)\n* \"`Der Person ist 18 Jahre alt`\" drukt, wen das alter genau 18 Jahre ist. (`alter == 18`)\n* \"`Die Person ist über 18`\" drukt, wen das alter grösser als 18 ist (`alter > 18`)\n\n### Tips:\n* https://www.pythoncheatsheet.org/cheatsheet/control-flow",
      "metadata": {
        "tags": [],
        "slideshow": {
          "slide_type": ""
        },
        "editable": false
      }
    },
    {
      "cell_type": "code",
      "source": "# vordefinierte variabeln:\nalter = 16\n\n# Code der das Alter auswertet:\n",
      "metadata": {
        "vscode": {
          "languageId": "plaintext"
        },
        "tags": [],
        "editable": true,
        "slideshow": {
          "slide_type": ""
        },
        "trusted": true
      },
      "outputs": [],
      "execution_count": null
    },
    {
      "cell_type": "markdown",
      "source": "## `4:Summe`\nSchreibe ein Programm das versucht die korekte zahl zu erraten. Verwende eine **while** Schleife um so lange eine zufällige zahl zu generieren, biss die \"`korekte_zahl`\" erraten wird.\n### Tips:\n* https://www.pythoncheatsheet.org/cheatsheet/control-flow#while-loop-statements",
      "metadata": {
        "editable": false,
        "tags": [],
        "slideshow": {
          "slide_type": ""
        }
      }
    },
    {
      "cell_type": "code",
      "source": "# random library importieren\nimport random\n\n# Zahl die erraten werden muss\nkorekte_zahl = 78\n\n# Beispiel wie man eine zufällige Zahl bekommen kan:\nzufälige_zahl = random.randint(0, 1000)\nprint(zufälige_zahl)\n\n# Code welcher so lange zufällige zahlen probier, bis er die korekte zahl findet:\n",
      "metadata": {
        "vscode": {
          "languageId": "plaintext"
        },
        "tags": [],
        "editable": true,
        "slideshow": {
          "slide_type": ""
        },
        "trusted": true
      },
      "outputs": [],
      "execution_count": null
    },
    {
      "cell_type": "markdown",
      "source": "## `5:Namelist`\nSchreibe ein Programm, das eine **for** Schleife verwendet, um jedes Element einer Liste von Namen auszugeben.\n### Tips:\n* https://www.pythoncheatsheet.org/cheatsheet/control-flow#for-loop",
      "metadata": {
        "editable": false,
        "tags": [],
        "slideshow": {
          "slide_type": ""
        }
      }
    },
    {
      "cell_type": "code",
      "source": "# vordefinierte variabeln:\nnamen = [\"Anna\", \"Ben\", \"Clara\", \"David\", \"Eva\"]\n\n# Code welcher alle namen nachainander ausdrukt:\n",
      "metadata": {
        "vscode": {
          "languageId": "plaintext"
        },
        "tags": [],
        "editable": true,
        "slideshow": {
          "slide_type": ""
        },
        "trusted": true
      },
      "outputs": [],
      "execution_count": null
    },
    {
      "cell_type": "markdown",
      "source": "## `6:Funktion`\nDamit unserer Code eleganter wird möchten wir eine dedizierte Funktion (wie z.B. `print()`) schreiben, den eingegebenen PIN überprüft. Verwende den Code aus Auftrag 3 als Basis. Schreibe eine Funktion die die Eingabe des Benutzers als Input nimmt und je nachdem ob der PIN korrekt ist, ein `True` oder ein `False` zurückgibt.\n### Tips:\n* https://www.pythoncheatsheet.org/cheatsheet/functions\n* https://www.pythoncheatsheet.org/cheatsheet/functions#return-values",
      "metadata": {
        "editable": false,
        "tags": [],
        "slideshow": {
          "slide_type": ""
        }
      }
    },
    {
      "cell_type": "code",
      "source": "# vordefinierte variabeln:\nbenutzer_input = 1234\nkorekter_pin = 1337\n\n# Funktion:\n\n\n# Code der die Funktion ausführt:\n",
      "metadata": {
        "vscode": {
          "languageId": "plaintext"
        },
        "tags": [],
        "editable": true,
        "slideshow": {
          "slide_type": ""
        },
        "trusted": true
      },
      "outputs": [],
      "execution_count": null
    },
    {
      "cell_type": "markdown",
      "source": "## `7:Bruteforce`\nDu (der Benutzer) hast deinen PIN vergessen und du fragst dich, ob du ihn hacken kannst, es gibt ja schliesslich nur so viele mögliche Kombinationen die ein PIN haben kann, oder?Schreibe ein Programm das alle möglichen nummern von 1 bis zu (z.B.) 10000 durchgeht und sie versucht als PIN einzugeben. Verwende die Funktion, die du in der letzten Aufgabe geschrieben hast.\n### Tips:\n* https://www.pythoncheatsheet.org/builtin/range",
      "metadata": {
        "editable": false,
        "tags": [],
        "slideshow": {
          "slide_type": ""
        }
      }
    },
    {
      "cell_type": "code",
      "source": "# vordefinierte variabeln:\nkorekter_pin = 1337\n\n# Funktion aus aufgabe 4:\n\n\n# Code der den PIN erratet:\n",
      "metadata": {
        "vscode": {
          "languageId": "plaintext"
        },
        "tags": [],
        "editable": true,
        "slideshow": {
          "slide_type": ""
        },
        "trusted": true
      },
      "outputs": [],
      "execution_count": null
    }
  ]
}