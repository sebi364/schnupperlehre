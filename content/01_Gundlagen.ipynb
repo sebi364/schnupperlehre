{
  "metadata": {
    "kernelspec": {
      "display_name": "Python (Pyodide)",
      "language": "python",
      "name": "python"
    },
    "language_info": {
      "codemirror_mode": {
        "name": "python",
        "version": 3
      },
      "file_extension": ".py",
      "mimetype": "text/x-python",
      "name": "python",
      "nbconvert_exporter": "python",
      "pygments_lexer": "ipython3",
      "version": "3.8"
    }
  },
  "nbformat_minor": 4,
  "nbformat": 4,
  "cells": [
    {
      "cell_type": "markdown",
      "source": "## `1:Hello World!`\nSchreib ein Programm, das den Text `Hello World!` in der Commando Zeile ausgibt.\n### Tips:\n* Um etwas auszugeben kann man die Funktion `print(x)` verwenden\n* Um ein Stück Text in Python darzustellen, muss man ihn zwischen zwei Gänsefüsschen setzen `\"text\"`",
      "metadata": {
        "editable": false,
        "tags": [],
        "slideshow": {
          "slide_type": ""
        }
      }
    },
    {
      "cell_type": "code",
      "source": "# Drucke den text \"Hello World!\" aus:\n",
      "metadata": {
        "vscode": {
          "languageId": "plaintext"
        },
        "trusted": true,
        "tags": [],
        "editable": true,
        "slideshow": {
          "slide_type": ""
        }
      },
      "outputs": [],
      "execution_count": 65
    },
    {
      "cell_type": "markdown",
      "source": "## `2:Echo`\nIm unterem code ist bereits eine Variabel namens `benutzer_input` vorhanden, drucke diese aus.",
      "metadata": {
        "editable": false,
        "tags": [],
        "slideshow": {
          "slide_type": ""
        }
      }
    },
    {
      "cell_type": "code",
      "source": "# vordefinierte variabeln:\nbenutzer_input = 1234\n\n# Code der die Variable \"benutzer_input\" ausdruckt:\n",
      "metadata": {
        "vscode": {
          "languageId": "plaintext"
        },
        "trusted": true,
        "tags": [],
        "editable": true,
        "slideshow": {
          "slide_type": ""
        }
      },
      "outputs": [],
      "execution_count": 66
    },
    {
      "cell_type": "markdown",
      "source": "## `3:PIN-Check`\nSchreib ein Programm das die variabel `benutzer_input` mit dem pin (`korekter_pin`) vergleicht und eine passende Nachricht zurückgiebt (\"Der Pin ist korrekt\" / \"Der Pin ist falsch\").\n### Tips:\n* https://www.pythoncheatsheet.org/cheatsheet/control-flow",
      "metadata": {
        "editable": false,
        "tags": [],
        "slideshow": {
          "slide_type": ""
        }
      }
    },
    {
      "cell_type": "code",
      "source": "# vordefinierte variabeln:\nbenutzer_input = 1234\nkorekter_pin = 1337\n\n# Code der die beiden Variabeln vergleicht:\n",
      "metadata": {
        "vscode": {
          "languageId": "plaintext"
        },
        "tags": [],
        "editable": true,
        "slideshow": {
          "slide_type": ""
        }
      },
      "outputs": [],
      "execution_count": null
    },
    {
      "cell_type": "markdown",
      "source": "## `4:Funktion`\nDamit unserer Code eleganter wird möchten wir eine dedizierte Funktion (wie z.B. `print()`) schreiben, den eingegebenen PIN überprüft. Verwende den Code aus Auftrag 3 als Basis. Schreibe eine Funktion die die Eingabe des Benutzers als Input nimmt und je nachdem ob der PIN korrekt ist, ein `True` oder ein `False` zurückgibt.\n### Tips:\n* https://www.pythoncheatsheet.org/cheatsheet/functions\n* https://mimo.org/glossary/python/return",
      "metadata": {
        "editable": false,
        "tags": [],
        "slideshow": {
          "slide_type": ""
        }
      }
    },
    {
      "cell_type": "code",
      "source": "# vordefinierte variabeln:\nbenutzer_input = 1234\nkorekter_pin = 1337\n\n# Funktion:\n\n\n# Code der die Funktion ausführt:\n",
      "metadata": {
        "vscode": {
          "languageId": "plaintext"
        },
        "tags": [],
        "editable": true,
        "slideshow": {
          "slide_type": ""
        }
      },
      "outputs": [],
      "execution_count": null
    },
    {
      "cell_type": "markdown",
      "source": "## `5:Bruteforce`\nDu (der Benutzer) hast deinen PIN vergessen und du fragst dich, ob du ihn hacken kannst, es gibt ja schliesslich nur so viele mögliche Kombinationen die ein PIN haben kann, oder?Schreibe ein Programm das alle möglichen nummern von 1 bis zu (z.B.) 10000 durchgeht und sie versucht als PIN einzugeben. Verwende die Funktion, die du in der letzten Aufgabe geschrieben hast.\n### Tips:\n* https://www.pythoncheatsheet.org/builtin/range\n* https://www.pythoncheatsheet.org/cheatsheet/control-flow#for-loop",
      "metadata": {
        "editable": false,
        "tags": [],
        "slideshow": {
          "slide_type": ""
        }
      }
    },
    {
      "cell_type": "code",
      "source": "# vordefinierte variabeln:\nkorekter_pin = 1337\n\n# Funktion aus aufgabe 4:\n\n\n# Code der den PIN erratet:\n",
      "metadata": {
        "vscode": {
          "languageId": "plaintext"
        },
        "tags": [],
        "editable": true,
        "slideshow": {
          "slide_type": ""
        }
      },
      "outputs": [],
      "execution_count": null
    }
  ]
}