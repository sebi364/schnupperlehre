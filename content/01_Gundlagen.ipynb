{
    "cells": [
        {
            "cell_type": "markdown",
            "metadata": {
                "editable": false
            },
            "source": [
                "## 1. `Hello World!`\n",
                "**Schreib ein Programm, das den Text `Hello World!` in der Commando Zeile ausgibt.**\n",
                "> [!TIP]\n",
                "> - Um etwas auszugeben kann man die Funktion `print(x)` verwenden\n",
                "> - Um ein Stück Text in Python darzustellen, muss man ihn zwischen zwei Gänsefüsschen setzen `\"text\"`"
            ]
        },
        {
            "cell_type": "code",
            "execution_count": null,
            "metadata": {
                "vscode": {
                    "languageId": "plaintext"
                }
            },
            "outputs": [],
            "source": []
        },
        {
            "cell_type": "markdown",
            "metadata": {
                "editable": false
            },
            "source": [
                "## 2. `Echo`\n",
                "**Schreibe ein Programm, das den Benutzer nach seinem Namen fragt und ihm danach mit `Hallo <name>` antwortet.**\n",
                "\n",
                "Beispiel Interaktion:\n",
                "```\n",
                "Wie heist du?\n",
                "> John\n",
                "Hallo John\n",
                "```\n",
                "> [!TIP]\n",
                "> - Um einen Benutzer in der Commando Zeile nach einem Input zu fragen muss die `input()` Funktion verwendet werden.\n",
                "> - https://www.pythoncheatsheet.org/cheatsheet/basics#the-input-function"
            ]
        },
        {
            "cell_type": "code",
            "execution_count": null,
            "metadata": {
                "vscode": {
                    "languageId": "plaintext"
                }
            },
            "outputs": [],
            "source": []
        },
        {
            "cell_type": "markdown",
            "metadata": {
                "editable": false
            },
            "source": [
                "## 3. `PIN-Check`\n",
                "**Schreibe ein Programm, das den Benutzer nach einem Passwort fragt und danach überprüft ob es stimmt.**\n",
                "> [!TIP]\n",
                "> - https://www.pythoncheatsheet.org/cheatsheet/control-flow\n",
                "> - Den PIN kanst du direkt als Text in einer Variabel speichern."
            ]
        },
        {
            "cell_type": "code",
            "execution_count": null,
            "metadata": {
                "vscode": {
                    "languageId": "plaintext"
                }
            },
            "outputs": [],
            "source": []
        },
        {
            "cell_type": "markdown",
            "metadata": {
                "editable": false
            },
            "source": [
                "## 4. `limitierte Versüche`\n",
                "**Wir wollen einem Benutzer drei Versuche geben, um den PIN korrekt einzugeben. Deshalb solltest du jetzt dein Programm so modifizieren, das es drei mal nach dem PIN fragt.**\n",
                "> [!WARNING]\n",
                "> **Verwende einen loop um diese Aufgabe zu lösen.** Es ist zwar möglich mehrere `if` Statements ineinander zu verschachteln, allerdings ist das nicht der Sinn dieser Aufgabe.\n",
                "\n",
                "\n",
                "> [!TIP]\n",
                "> - https://www.pythoncheatsheet.org/cheatsheet/control-flow#break-statements"
            ]
        },
        {
            "cell_type": "code",
            "execution_count": null,
            "metadata": {
                "vscode": {
                    "languageId": "plaintext"
                }
            },
            "outputs": [],
            "source": []
        },
        {
            "cell_type": "markdown",
            "metadata": {
                "editable": false
            },
            "source": [
                "## 5. `Funktion`\n",
                "Damit unserer Code eleganter wird möchten wir eine dedizierte Funktion (wie z.B. `print()`) schreiben, den eingegebenen PIN überprüft. Verwende den Code aus Auftrag 3 als Basis. Schreibe eine Funktion die die Eingabe des Benutzers als Input nimmt und je nachdem ob der PIN korrekt ist, ein `True` oder ein `False` zurückgibt.\n",
                "> [!TIP]\n",
                "> - https://www.pythoncheatsheet.org/cheatsheet/functions\n",
                "> - https://mimo.org/glossary/python/return"
            ]
        },
        {
            "cell_type": "code",
            "execution_count": null,
            "metadata": {
                "vscode": {
                    "languageId": "plaintext"
                }
            },
            "outputs": [],
            "source": []
        },
        {
            "cell_type": "markdown",
            "metadata": {
                "editable": false
            },
            "source": [
                "## 6. `Bruteforce`\n",
                "Du (der Benutzer) hast deinen PIN vergessen und du fragst dich, ob du ihn hacken kannst, es gibt ja schliesslich nur so viele mögliche Kombinationen die ein PIN haben kann, oder?\n",
                "Schreibe ein Programm das alle möglichen nummern von 1 bis zu (z.B.) 10000 durchgeht und sie versucht als PIN einzugeben.\n",
                "Verwende die Funktion, die du in der letzten Aufgabe geschrieben hast.\n",
                "> [!TIP]\n",
                "> - https://www.pythoncheatsheet.org/builtin/range\n",
                "> - Du kanst eine zahl nicht mit einem text vergleichen:\n",
                ">   ```py\n",
                ">   1234 == \"1234\" # False, ist nicht dasselbe\n",
                ">   ```\n",
                ">   Du musst die Zahl zuerst in einen string verwandeln.\n",
                ">   ```py\n",
                ">   str(1234) == \"1234\" # True, die Werte sind gleich\n",
                ">   ```"
            ]
        },
        {
            "cell_type": "code",
            "execution_count": null,
            "metadata": {
                "vscode": {
                    "languageId": "plaintext"
                }
            },
            "outputs": [],
            "source": []
        }
    ],
    "metadata": {
        "kernelspec": {
            "display_name": "Python (Pyodide)",
            "language": "python",
            "name": "python"
        },
        "language_info": {
            "codemirror_mode": {
                "name": "python",
                "version": 3
            },
            "file_extension": ".py",
            "mimetype": "text/x-python",
            "name": "python",
            "nbconvert_exporter": "python",
            "pygments_lexer": "ipython3",
            "version": "3.8"
        }
    },
    "nbformat": 4,
    "nbformat_minor": 4
}