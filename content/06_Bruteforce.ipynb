{
    "cells": [
        {
            "cell_type": "markdown",
            "metadata": {},
            "source": [
                "## 6. `Bruteforce`\n",
                "Du (der Benutzer) hast deinen PIN vergessen und du fragst dich, ob du ihn hacken kannst, es gibt ja schliesslich nur so viele mögliche Kombinationen die ein PIN haben kann, oder?\n",
                "Schreibe ein Programm das alle möglichen nummern von 1 bis zu (z.B.) 10000 durchgeht und sie versucht als PIN einzugeben.\n",
                "Verwende die Funktion, die du in der letzten Aufgabe geschrieben hast.\n",
                "> [!TIP]\n",
                "> - https://www.pythoncheatsheet.org/builtin/range\n",
                "> - Du kanst eine zahl nicht mit einem text vergleichen:\n",
                ">   ```py\n",
                ">   1234 == \"1234\" # False, ist nicht dasselbe\n",
                ">   ```\n",
                ">   Du musst die Zahl zuerst in einen string verwandeln.\n",
                ">   ```py\n",
                ">   str(1234) == \"1234\" # True, die Werte sind gleich\n",
                ">   ```"
            ]
        },
        {
            "cell_type": "code",
            "execution_count": null,
            "metadata": {
                "vscode": {
                    "languageId": "plaintext"
                }
            },
            "outputs": [],
            "source": []
        }
    ],
    "metadata": {
        "kernelspec": {
            "display_name": "Python (Pyodide)",
            "language": "python",
            "name": "python"
        },
        "language_info": {
            "codemirror_mode": {
                "name": "python",
                "version": 3
            },
            "file_extension": ".py",
            "mimetype": "text/x-python",
            "name": "python",
            "nbconvert_exporter": "python",
            "pygments_lexer": "ipython3",
            "version": "3.8"
        }
    },
    "nbformat": 4,
    "nbformat_minor": 4
}
