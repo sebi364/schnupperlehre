{
 "cells": [
  {
   "cell_type": "markdown",
   "metadata": {},
   "source": [
    "# Jupyter Lab\n",
    "### Aufgaben:\n",
    "Oben rechts im Menü habt ihr eine Liste von Aufgaben, an denen ihr Arbeiten könnt. Ihr könnt diese öffnen, indem ihr eine Aufgabe auswählt und 2x auf sie mit der linken Maustaste draufdrückt.\n",
    "\n",
    "![](./Medien/Aufgaben.png)\n",
    "\n",
    "Die Aufgaben bauen aufeinander auf, daher empfehlen wir euch, sie in der korrekten Reihenfolge zu lösen.\n",
    "\n",
    "### Aufbau einer Aufgabe:\n",
    "Eine Aufgabe besteht immer aus zwei Teilen: Einer Beschreibung und einem Codeblock. Euer Auftrag ist es, die Beschreibung in Ruhe durchzulesen und dann zu versuchen, das beschriebene Programm im Codeblock zu schreiben.\n",
    "\n",
    "<img src=\"./Medien/Eingabe.png\"/>\n",
    "\n",
    "### Programm ausführen:\n",
    "Um den Code `auszuführen` drücke `Ctrl + Enter`. Das Programm wird den Code in der aktuellen Zelle ausführen und dir das Ergebnis anzeigen.\n",
    "\n",
    "<img src=\"./Medien/Shortcut.jpg\" width=\"250\"/> <img src=\"./Medien/Ausgeführt.png\" height=\"250\"/>\n",
    "\n",
    "### Erweitert:\n",
    "Falls du schon früher fertig bist oder diese Aufgaben für dich zu leicht sind, kannst du eine der schwierigeren Aufgaben versuchen (*diese können im `/Erweitert/` Verzeichnis gefunden werden*) oder du kannst auch selber etwas im `/Spielplatz` herumtüfteln.\n",
    "\n",
    "### Links für interisierte\n",
    "- https://pythonbasics.org/ -> Grundlagen auf Englisch\n",
    "- https://programiz.pro/ide/python -> Online Editor (ist relativ eingeschränkt)\n",
    "- [https://www.youtube.com/watch?v=oxXAb8IikHM](https://www.youtube.com/watch?v=oxXAb8IikHM&list=PL_pqkvxZ6ho3u8PJAsUU-rOAQ74D0TqZB&index=1) -> Video Serie auf Deutsch\n",
    "- https://www.python.org/ -> Python\n",
    "- https://code.visualstudio.com/ -> Guter und Bekanter code Editor\n",
    "- https://github.com/codecrafters-io/build-your-own-x (ist sehr fortgeschritten, aber cool zum sehen was alles möglich ist 🙃)"
   ]
  }
 ],
 "metadata": {
  "language_info": {
   "name": "python"
  }
 },
 "nbformat": 4,
 "nbformat_minor": 2
}
