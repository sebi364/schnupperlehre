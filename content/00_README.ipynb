{
  "metadata": {
    "kernelspec": {
      "name": "python",
      "display_name": "Python (Pyodide)",
      "language": "python"
    },
    "language_info": {
      "codemirror_mode": {
        "name": "python",
        "version": 3
      },
      "file_extension": ".py",
      "mimetype": "text/x-python",
      "name": "python",
      "nbconvert_exporter": "python",
      "pygments_lexer": "ipython3",
      "version": "3.8"
    }
  },
  "nbformat_minor": 4,
  "nbformat": 4,
  "cells": [
    {
      "cell_type": "markdown",
      "source": "# Jupyter Lab\n---\n### Aufgaben:\nOben links im Menü habt ihr eine Liste von Dateien mit Aufgaben, an denen ihr arbeiten könnt. Ihr könnt diese öffnen, indem ihr eine Aufgabe auswählt und zweimal auf sie mit der linken Maustaste draufdrückt.\n\n<img src=\"./Bilder/Aufgaben.png\" width=\"350\"/>\n\n---\n\n### Aufbau einer Aufgabe:\nEine Aufgabe besteht immer aus zwei Teilen: Einer Beschreibung und einem Codeblock. Euer Auftrag ist es, die Beschreibung durchzulesen und dann zu versuchen, das beschriebene Programm im Codeblock zu schreiben.\n\n<img src=\"./Bilder/Eingabe.png\"  width=\"400\"/>\n\n---\n\n### Programm ausführen:\nUm den Code `auszuführen` drücke `Ctrl + Enter`. Das Programm wird den Code in der aktuellen Zelle ausführen und dir das Ergebnis anzeigen.\n\n<img src=\"./Bilder/Shortcut.jpg\" width=\"250\"/> <img src=\"./Bilder/Ausgeführt.png\" height=\"250\"/>\n\n---\n\n### Hinweis Hints:\nIn den Aufgaben sind an mehreren Stellen Hints verlinkt. Auf der verlinkten Webseite findet ihr sämtliche Code-Snippets, die euch potenziell weiterhelfen könnten. Ein Code-Snippet könnte z.B. ungefähr so aussehen:\n\n<img src=\"./Bilder/warning_cheatsheet.png\"  width=\"600\"/>\n\nBitte beachtet  dabei, dass der rot umrandete Teil in den Code-Snippets **nicht ein Teil vom Code ist** und weggelassen werden muss. Diese Zeichen sind ein Teil der Python-Shell, die von der Webseite für Demo-Zwecke verwendet wurde:\n\n```python\nsebi@x1eg4:~$ python\nPython 3.12.3 (main, Apr 17 2024, 00:00:00) [GCC 14.0.1 20240411 (Red Hat 14.0.1-0)] on linux\nType \"help\", \"copyright\", \"credits\" or \"license\" for more information.\n>>> from ruamel.yaml import YAML\n\n>>> with open(\"filename.yaml\") as f:\n...     yaml = YAML()\n...     yaml = yaml.load(f)\n```\nIn der praxis müsste dieser Code-Snippet also bei euch so aussehen:\n```python\nfrom ruamel.yaml import YAML\n\nwith open(\"filename.yaml\") as f:\n    yaml = YAML()\n    yaml = yaml.load(f)\n```\n\n---\n\n### Erweitert:\nFalls du schon früher fertig bist oder diese Aufgaben für dich zu leicht sind, kannst du eine der schwierigeren Aufgaben versuchen.\n\n---\n\n### Links für Interessierte\nFalls ihr noch mehr selber über Programmieren lernen wollt, habe ich hier ein paar Links mit (unserer Meinung nach) guten Quellen & Tools vorbereitet:\n- https://t.ly/jgXXZ -> kurzer Link zu dieser Umgebung\n- https://pythonbasics.org/ -> Grundlagen auf Englisch\n- https://programiz.pro/ide/python -> Online-Editor (ist relativ eingeschränkt)\n- [https://www.youtube.com/watch?v=oxXAb8IikHM](https://www.youtube.com/watch?v=oxXAb8IikHM&list=PL_pqkvxZ6ho3u8PJAsUU-rOAQ74D0TqZB&index=1) -> Video-Serie auf Deutsch\n- https://www.python.org/ -> Python\n- https://code.visualstudio.com/ -> guter und bekanter Code-Editor\n- https://github.com/codecrafters-io/build-your-own-x (ist sehr fortgeschritten, aber cool, um zu sehen, was alles möglich ist 🙃)\n\n---",
      "metadata": {
        "tags": [],
        "slideshow": {
          "slide_type": ""
        },
        "editable": false
      }
    }
  ]
}