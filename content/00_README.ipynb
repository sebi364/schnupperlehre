{
  "metadata": {
    "kernelspec": {
      "name": "python",
      "display_name": "Python (Pyodide)",
      "language": "python"
    },
    "language_info": {
      "codemirror_mode": {
        "name": "python",
        "version": 3
      },
      "file_extension": ".py",
      "mimetype": "text/x-python",
      "name": "python",
      "nbconvert_exporter": "python",
      "pygments_lexer": "ipython3",
      "version": "3.8"
    }
  },
  "nbformat_minor": 4,
  "nbformat": 4,
  "cells": [
    {
      "cell_type": "markdown",
      "source": "# Jupyter Lab\n### Aufgaben:\nOben rechts im Menü habt ihr eine Liste von Aufgaben, an denen ihr Arbeiten könnt. Ihr könnt diese öffnen, indem ihr eine Aufgabe auswählt und 2x auf sie mit der linken Maustaste draufdrückt.\n\n<img src=\"./Bilder/Aufgaben.png\" width=\"350\"/>\n\nDie Aufgaben bauen aufeinander auf, daher empfehlen wir euch, sie in der korrekten Reihenfolge zu lösen.\n\n### Aufbau einer Aufgabe:\nEine Aufgabe besteht immer aus zwei Teilen: Einer Beschreibung und einem Codeblock. Euer Auftrag ist es, die Beschreibung in Ruhe durchzulesen und dann zu versuchen, das beschriebene Programm im Codeblock zu schreiben.\n\n<img src=\"./Bilder/Eingabe.png\"  width=\"400\"/>\n\n### Programm ausführen:\nUm den Code `auszuführen` drücke `Ctrl + Enter`. Das Programm wird den Code in der aktuellen Zelle ausführen und dir das Ergebnis anzeigen.\n\n<img src=\"./Bilder/Shortcut.jpg\" width=\"250\"/> <img src=\"./Bilder/Ausgeführt.png\" height=\"250\"/>\n\n### Hinweis Hints:\n<img src=\"./Bilder/warning_cheatsheet.png\"  width=\"600\"/>\n\n### Erweitert:\nFalls du schon früher fertig bist oder diese Aufgaben für dich zu leicht sind, kannst du eine der schwierigeren Aufgaben versuchen (*diese können im `/Erweitert/` Verzeichnis gefunden werden*) oder du kannst auch selber etwas im `/Spielplatz` herumtüfteln.\n\n### Links für interisierte\n- https://pythonbasics.org/ -> Grundlagen auf Englisch\n- https://programiz.pro/ide/python -> Online Editor (ist relativ eingeschränkt)\n- [https://www.youtube.com/watch?v=oxXAb8IikHM](https://www.youtube.com/watch?v=oxXAb8IikHM&list=PL_pqkvxZ6ho3u8PJAsUU-rOAQ74D0TqZB&index=1) -> Video Serie auf Deutsch\n- https://www.python.org/ -> Python\n- https://code.visualstudio.com/ -> Guter und Bekanter code Editor\n- https://github.com/codecrafters-io/build-your-own-x (ist sehr fortgeschritten, aber cool zum sehen was alles möglich ist 🙃)",
      "metadata": {
        "tags": [],
        "slideshow": {
          "slide_type": ""
        },
        "editable": false
      }
    }
  ]
}