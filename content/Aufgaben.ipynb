{
 "cells": [
  {
   "cell_type": "markdown",
   "metadata": {},
   "source": [
    "## 1. `Hello World!`\n",
    "Schreib ein Programm, das den Text `Hello World!` in der Commando Zeile ausgibt.\n",
    "> [!TIP]\n",
    "> - Um etwas auszugeben kann man die Funktion `print(x)` verwenden\n",
    "> - Um ein Stück Text in Python darzustellen, muss man ihn zwischen zwei Gänsefüsschen setzen `\"text\"`\n",
    "\n",
    "### `Code:`"
   ]
  },
  {
   "cell_type": "code",
   "execution_count": null,
   "metadata": {
    "vscode": {
     "languageId": "plaintext"
    }
   },
   "outputs": [],
   "source": []
  },
  {
   "cell_type": "markdown",
   "metadata": {},
   "source": [
    "---\n",
    "## 2. `Hallo John`\n",
    "Schreibe ein Programm, das den Benutzer nach seinem Namen fragt und ihm danach mit `Hallo <name>` antwortet.\n",
    "\n",
    "Beispiel Interaktion:\n",
    "```\n",
    "Wie heist du?   <-  Programm\n",
    "John            <-  User\n",
    "Hallo John      <-  Programm,\n",
    "```\n",
    "> [!TIP]\n",
    "> - Um einen Benutzer in der Commando Zeile nach einem Input zu fragen muss die `input()` Funktion verwendet werden.\n",
    "> - https://www.pythoncheatsheet.org/cheatsheet/basics#the-input-function\n",
    "\n",
    "### `Code:`\n"
   ]
  },
  {
   "cell_type": "code",
   "execution_count": null,
   "metadata": {
    "vscode": {
     "languageId": "plaintext"
    }
   },
   "outputs": [],
   "source": []
  },
  {
   "cell_type": "markdown",
   "metadata": {},
   "source": [
    "---"
   ]
  }
 ],
 "metadata": {
    "kernelspec": {
      "name": "python",
      "display_name": "Python (Pyodide)",
      "language": "python"
    },
    "language_info": {
      "codemirror_mode": {
        "name": "python",
        "version": 3
      },
      "file_extension": ".py",
      "mimetype": "text/x-python",
      "name": "python",
      "nbconvert_exporter": "python",
      "pygments_lexer": "ipython3",
      "version": "3.8"
    }
  },
 "nbformat": 4,
 "nbformat_minor": 4
}
