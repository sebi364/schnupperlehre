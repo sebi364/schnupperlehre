{
    "cells": [
        {
            "cell_type": "markdown",
            "metadata": {},
            "source": [
                "## 1. `Hello World!`\n",
                "**Schreib ein Programm, das den Text `Hello World!` in der Commando Zeile ausgibt.**\n",
                "> [!TIP]\n",
                "> - Um etwas auszugeben kann man die Funktion `print(x)` verwenden\n",
                "> - Um ein Stück Text in Python darzustellen, muss man ihn zwischen zwei Gänsefüsschen setzen `\"text\"`"
            ]
        },
        {
            "cell_type": "code",
            "execution_count": null,
            "metadata": {
                "vscode": {
                    "languageId": "plaintext"
                }
            },
            "outputs": [],
            "source": []
        }
    ],
    "metadata": {
        "kernelspec": {
            "display_name": "Python (Pyodide)",
            "language": "python",
            "name": "python"
        },
        "language_info": {
            "codemirror_mode": {
                "name": "python",
                "version": 3
            },
            "file_extension": ".py",
            "mimetype": "text/x-python",
            "name": "python",
            "nbconvert_exporter": "python",
            "pygments_lexer": "ipython3",
            "version": "3.8"
        }
    },
    "nbformat": 4,
    "nbformat_minor": 4
}