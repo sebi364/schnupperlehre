{
    "cells": [
        {
            "cell_type": "markdown",
            "metadata": {},
            "source": [
                "## 3. `PIN-Check`\n",
                "**Schreibe ein Programm, das den Benutzer nach einem Passwort fragt und danach überprüft ob es stimmt.**\n",
                "> [!TIP]\n",
                "> - https://www.pythoncheatsheet.org/cheatsheet/control-flow\n",
                "> - Den PIN kanst du direkt als Text in einer Variabel speichern."
            ]
        },
        {
            "cell_type": "code",
            "execution_count": null,
            "metadata": {
                "vscode": {
                    "languageId": "plaintext"
                }
            },
            "outputs": [],
            "source": []
        }
    ],
    "metadata": {
        "kernelspec": {
            "display_name": "Python (Pyodide)",
            "language": "python",
            "name": "python"
        },
        "language_info": {
            "codemirror_mode": {
                "name": "python",
                "version": 3
            },
            "file_extension": ".py",
            "mimetype": "text/x-python",
            "name": "python",
            "nbconvert_exporter": "python",
            "pygments_lexer": "ipython3",
            "version": "3.8"
        }
    },
    "nbformat": 4,
    "nbformat_minor": 4
}