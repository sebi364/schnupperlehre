{
    "cells": [
        {
            "cell_type": "markdown",
            "metadata": {
                "editable": false
            },
            "source": [
                "## `01:Dreieck`\n",
                "Schreibe ein Programm welches das folgende Muster ausdruckt:\n",
                "```txt\n",
                "*\n",
                "**\n",
                "***\n",
                "****\n",
                "*****\n",
                "******\n",
                "*******\n",
                "********\n",
                "*********\n",
                "```\n",
                "Verwende dafür einen `for` loop mit der `range()` funktion.\n",
                "\n",
                "### Tips:\n",
                "* https://www.pythoncheatsheet.org/builtin/range\n",
                "* https://www.pythoncheatsheet.org/cheatsheet/basics#concatenation-and-replication"
            ]
        },
        {
            "cell_type": "code",
            "execution_count": null,
            "metadata": {
                "vscode": {
                    "languageId": "plaintext"
                }
            },
            "outputs": [],
            "source": []
        },
        {
            "cell_type": "markdown",
            "metadata": {
                "editable": false
            },
            "source": [
                "## `02:Pyramide`\n",
                "Modifizier das Programm, so dass es eine Pyramide ausdruckt:\n",
                "```txt\n",
                "         *          \n",
                "        ***         \n",
                "       *****        \n",
                "      *******       \n",
                "     *********      \n",
                "    ***********     \n",
                "   *************    \n",
                "  ***************   \n",
                " *****************  \n",
                "******************* \n",
                "```\n",
                "### Tips:\n",
                "* https://www.pythoncheatsheet.org/cheatsheet/manipulating-strings#justifying-text-with-rjust-ljust-and-center\n",
                "* https://www.pythoncheatsheet.org/cheatsheet/control-flow#the-range-function"
            ]
        },
        {
            "cell_type": "code",
            "execution_count": null,
            "metadata": {
                "vscode": {
                    "languageId": "plaintext"
                }
            },
            "outputs": [],
            "source": []
        },
        {
            "cell_type": "markdown",
            "metadata": {
                "editable": false
            },
            "source": [
                "## `03:Baum`\n",
                "Füge einen Baumstamm hinzu:\n",
                "```txt\n",
                "         *          \n",
                "        ***         \n",
                "       *****        \n",
                "      *******       \n",
                "     *********      \n",
                "    ***********     \n",
                "   *************    \n",
                "  ***************   \n",
                " *****************  \n",
                "******************* \n",
                "         **         \n",
                "         **         \n",
                "         **         \n",
                "```"
            ]
        },
        {
            "cell_type": "code",
            "execution_count": null,
            "metadata": {
                "vscode": {
                    "languageId": "plaintext"
                }
            },
            "outputs": [],
            "source": []
        },
        {
            "cell_type": "markdown",
            "metadata": {
                "editable": false
            },
            "source": [
                "## `04:Funktion`\n",
                "Schreibe basierend auf deinem vorherigen Code, eine Funktion die als input 4 Variabeln nimmt: `Baum höhe`, `Baum Breite`, `Stamm Höhe`, `Stamm Breite`, `Zeichen` und basierend auf dehnen einen \"massgeschneiderten\" Baum ausdruckt."
            ]
        },
        {
            "cell_type": "code",
            "execution_count": null,
            "metadata": {
                "vscode": {
                    "languageId": "plaintext"
                }
            },
            "outputs": [],
            "source": []
        }
    ],
    "metadata": {
        "kernelspec": {
            "display_name": "Python (Pyodide)",
            "language": "python",
            "name": "python"
        },
        "language_info": {
            "codemirror_mode": {
                "name": "python",
                "version": 3
            },
            "file_extension": ".py",
            "mimetype": "text/x-python",
            "name": "python",
            "nbconvert_exporter": "python",
            "pygments_lexer": "ipython3",
            "version": "3.8"
        }
    },
    "nbformat": 4,
    "nbformat_minor": 4
}
