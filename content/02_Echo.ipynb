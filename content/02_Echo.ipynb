{
    "cells": [
        {
            "cell_type": "markdown",
            "metadata": {},
            "source": [
                "## 2. `Echo`\n",
                "**Schreibe ein Programm, das den Benutzer nach seinem Namen fragt und ihm danach mit `Hallo <name>` antwortet.**\n",
                "\n",
                "Beispiel Interaktion:\n",
                "```\n",
                "Wie heist du?\n",
                "> John\n",
                "Hallo John\n",
                "```\n",
                "> [!TIP]\n",
                "> - Um einen Benutzer in der Commando Zeile nach einem Input zu fragen muss die `input()` Funktion verwendet werden.\n",
                "> - https://www.pythoncheatsheet.org/cheatsheet/basics#the-input-function"
            ]
        },
        {
            "cell_type": "code",
            "execution_count": null,
            "metadata": {
                "vscode": {
                    "languageId": "plaintext"
                }
            },
            "outputs": [],
            "source": []
        }
    ],
    "metadata": {
        "kernelspec": {
            "display_name": "Python (Pyodide)",
            "language": "python",
            "name": "python"
        },
        "language_info": {
            "codemirror_mode": {
                "name": "python",
                "version": 3
            },
            "file_extension": ".py",
            "mimetype": "text/x-python",
            "name": "python",
            "nbconvert_exporter": "python",
            "pygments_lexer": "ipython3",
            "version": "3.8"
        }
    },
    "nbformat": 4,
    "nbformat_minor": 4
}