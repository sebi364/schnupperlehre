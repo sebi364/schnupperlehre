{
    "cells": [
        {
            "cell_type": "markdown",
            "metadata": {},
            "source": [
                "## 5. `Funktion`\n",
                "Damit unserer Code eleganter wird möchten wir eine dedizierte Funktion (wie z.B. `print()`) schreiben, den eingegebenen PIN überprüft. Verwende den Code aus Auftrag 3 als Basis. Schreibe eine Funktion die die Eingabe des Benutzers als Input nimmt und je nachdem ob der PIN korrekt ist, ein `True` oder ein `False` zurückgibt.\n",
                "> [!TIP]\n",
                "> - https://www.pythoncheatsheet.org/cheatsheet/functions\n",
                "> - https://mimo.org/glossary/python/return"
            ]
        },
        {
            "cell_type": "code",
            "execution_count": null,
            "metadata": {
                "vscode": {
                    "languageId": "plaintext"
                }
            },
            "outputs": [],
            "source": []
        }
    ],
    "metadata": {
        "kernelspec": {
            "display_name": "Python (Pyodide)",
            "language": "python",
            "name": "python"
        },
        "language_info": {
            "codemirror_mode": {
                "name": "python",
                "version": 3
            },
            "file_extension": ".py",
            "mimetype": "text/x-python",
            "name": "python",
            "nbconvert_exporter": "python",
            "pygments_lexer": "ipython3",
            "version": "3.8"
        }
    },
    "nbformat": 4,
    "nbformat_minor": 4
}