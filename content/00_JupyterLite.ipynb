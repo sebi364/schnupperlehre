{
 "cells": [
  {
   "cell_type": "markdown",
   "metadata": {},
   "source": [
    "JupyterLab ist eine interaktive Umgebung, in der du programmieren und deine Ideen in Code umsetzen kannst. Hier sind einige wichtige Punkte, die du kennen solltest:\n",
    "\n",
    "1. **Aufbau der Oberfläche:**</br>\n",
    "    Jedes \"Playbook\" in JupyterLab ist in Abschnitte, sogenannte \"Zellen\", unterteilt. Jede Zelle kann entweder eine Beschreibung oder Code enthalten.\n",
    "\n",
    "2. **Aufgaben finden**</br>\n",
    "    Jedes Playbook ist in einzelne Aufgaben oder Abschnitte unterteilt. Jede Aufgabe wird in einer eigenen Zelle angezeigt.\n",
    "\n",
    "3. **Code eingeben**</br>\n",
    "    Um mit dem Programmieren zu beginnen, suche nach den Zellen mit der Überschrift \"Code\". Hier kannst du deinen eigenen Code eingeben.\n",
    "\n",
    "4. **Code ausführen**</br>\n",
    "    Um den Code `auszuführen`, drücke `Ctrl + Enter`. Das Programm wird den Code in der aktuellen Zelle ausführen und dir das Ergebnis anzeigen."
   ]
  }
 ],
 "metadata": {
  "language_info": {
   "name": "python"
  }
 },
 "nbformat": 4,
 "nbformat_minor": 2
}
